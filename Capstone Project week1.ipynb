{
    "cells": [
        {
            "metadata": {
                "collapsed": true
            },
            "cell_type": "markdown",
            "source": "# Introduction\n\nWith the rise of the ongoing Covid pandemic and how countries are handling the ongoing crisis there has a been a lot of strain on how patients are tranfered and how each loaclity is hadling the crisis. Since travel restriction have been kept on almost all countires it has come to a point where people have come upto thinking about a world where they live along with the virus and hence neighborhood planning come into play(audience). Along with this, the current study with existing neighborhoods correlating the spread of the diseases to that of the geographical similarities itll be essentital to study the spread of the virus in similar neighboods as a prevention mechanism for future cities and for city offcials to plan out for the future. Identifying neighborhoods with potential infrastructure to convert to hospitals if required and help patient mobility.\nNew york is the most populous city in the United States. It has a  diverse and is the financial capital of USA. It is multicultural.It is also by far the hardest-hit U.S. city and hence considering these facts the study would be based upon this city and its specific neighborhoods to give an overal perspective",
            "attachments": {}
        },
        {
            "metadata": {},
            "cell_type": "markdown",
            "source": "# Data\nThe locational data about hospitals and ratings of these hospitals will be sourced from the Foursquare API, and also the various other venues which enable us to cluster these neighbourhoods in away to make model neighborhoods on which cities could be modeled towards or to find similar neighborhoods who might have the same pattern of spread. Identifying locations to convert to hospitals for fut\nThe new york data set from https://cocl.us/new_york_dataset which will be used to get the geo locations and the neighboods according to Boroughs\nalong with this data I'll be using data from the official NYcity gov data on covid github: https://github.com/nychealth/coronavirus-data for data regarding Covid cases,deaths,testing and also the geojason file.\nTo compare with other another state ill be using the data from https://data.sfgov.org/browse?category=COVID-19 for understanding the same covid data about sanfrancisco.\n"
        }
    ],
    "metadata": {
        "kernelspec": {
            "name": "python3",
            "display_name": "Python 3.6",
            "language": "python"
        },
        "language_info": {
            "name": "python",
            "version": "3.6.9",
            "mimetype": "text/x-python",
            "codemirror_mode": {
                "name": "ipython",
                "version": 3
            },
            "pygments_lexer": "ipython3",
            "nbconvert_exporter": "python",
            "file_extension": ".py"
        }
    },
    "nbformat": 4,
    "nbformat_minor": 1
}